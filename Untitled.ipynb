{
 "cells": [
  {
   "cell_type": "code",
   "execution_count": 1,
   "id": "8c53ba61",
   "metadata": {},
   "outputs": [],
   "source": [
    "import pandas as pd\n",
    "import numpy as np\n",
    "from sklearn.linear_model import LogisticRegression\n",
    "from sklearn.tree import DecisionTreeClassifier\n",
    "from sklearn.naive_bayes import GaussianNB\n",
    "from sklearn.svm import SVC\n",
    "from sklearn.metrics import accuracy_score , f1_score, precision_score, recall_score\n",
    "from sklearn.feature_selection import SelectKBest\n",
    "from sklearn.model_selection import  GridSearchCV\n",
    "from sklearn.preprocessing import StandardScaler, MinMaxScaler\n",
    "from IPython.display import display\n",
    "import matplotlib.pyplot as plt\n",
    "import seaborn as sns\n",
    "from sklearn.preprocessing import scale\n",
    "%matplotlib inline"
   ]
  },
  {
   "cell_type": "markdown",
   "id": "7c288414",
   "metadata": {},
   "source": [
    "# Criando os DF"
   ]
  },
  {
   "cell_type": "code",
   "execution_count": 36,
   "id": "fbdee30b",
   "metadata": {},
   "outputs": [],
   "source": [
    "url = 'https://raw.githubusercontent.com/fabrimatt/machine_learnig/master/BRA.csv'\n",
    "df = pd.read_csv(url)"
   ]
  },
  {
   "cell_type": "code",
   "execution_count": 3,
   "id": "4a0b7659",
   "metadata": {},
   "outputs": [
    {
     "data": {
      "text/html": [
       "<div>\n",
       "<style scoped>\n",
       "    .dataframe tbody tr th:only-of-type {\n",
       "        vertical-align: middle;\n",
       "    }\n",
       "\n",
       "    .dataframe tbody tr th {\n",
       "        vertical-align: top;\n",
       "    }\n",
       "\n",
       "    .dataframe thead th {\n",
       "        text-align: right;\n",
       "    }\n",
       "</style>\n",
       "<table border=\"1\" class=\"dataframe\">\n",
       "  <thead>\n",
       "    <tr style=\"text-align: right;\">\n",
       "      <th></th>\n",
       "      <th>Country</th>\n",
       "      <th>League</th>\n",
       "      <th>game_id</th>\n",
       "      <th>Season</th>\n",
       "      <th>Date</th>\n",
       "      <th>Time</th>\n",
       "      <th>Home</th>\n",
       "      <th>home_id</th>\n",
       "      <th>Away</th>\n",
       "      <th>Away_id</th>\n",
       "      <th>...</th>\n",
       "      <th>Res</th>\n",
       "      <th>PH</th>\n",
       "      <th>PD</th>\n",
       "      <th>PA</th>\n",
       "      <th>MaxH</th>\n",
       "      <th>MaxD</th>\n",
       "      <th>MaxA</th>\n",
       "      <th>AvgH</th>\n",
       "      <th>AvgD</th>\n",
       "      <th>AvgA</th>\n",
       "    </tr>\n",
       "  </thead>\n",
       "  <tbody>\n",
       "    <tr>\n",
       "      <th>0</th>\n",
       "      <td>Brazil</td>\n",
       "      <td>Serie A</td>\n",
       "      <td>1</td>\n",
       "      <td>2012</td>\n",
       "      <td>19-05-12</td>\n",
       "      <td>22:30</td>\n",
       "      <td>Palmeiras</td>\n",
       "      <td>21</td>\n",
       "      <td>Portuguesa</td>\n",
       "      <td>21</td>\n",
       "      <td>...</td>\n",
       "      <td>0</td>\n",
       "      <td>1.75</td>\n",
       "      <td>3.86</td>\n",
       "      <td>5.25</td>\n",
       "      <td>1.76</td>\n",
       "      <td>3.87</td>\n",
       "      <td>5.31</td>\n",
       "      <td>1.69</td>\n",
       "      <td>3.50</td>\n",
       "      <td>4.90</td>\n",
       "    </tr>\n",
       "    <tr>\n",
       "      <th>1</th>\n",
       "      <td>Brazil</td>\n",
       "      <td>Serie A</td>\n",
       "      <td>2</td>\n",
       "      <td>2012</td>\n",
       "      <td>19-05-12</td>\n",
       "      <td>22:30</td>\n",
       "      <td>Sport Recife</td>\n",
       "      <td>27</td>\n",
       "      <td>Flamengo RJ</td>\n",
       "      <td>27</td>\n",
       "      <td>...</td>\n",
       "      <td>0</td>\n",
       "      <td>2.83</td>\n",
       "      <td>3.39</td>\n",
       "      <td>2.68</td>\n",
       "      <td>2.83</td>\n",
       "      <td>3.42</td>\n",
       "      <td>2.70</td>\n",
       "      <td>2.59</td>\n",
       "      <td>3.23</td>\n",
       "      <td>2.58</td>\n",
       "    </tr>\n",
       "    <tr>\n",
       "      <th>2</th>\n",
       "      <td>Brazil</td>\n",
       "      <td>Serie A</td>\n",
       "      <td>3</td>\n",
       "      <td>2012</td>\n",
       "      <td>20-05-12</td>\n",
       "      <td>1:00</td>\n",
       "      <td>Figueirense</td>\n",
       "      <td>13</td>\n",
       "      <td>Nautico</td>\n",
       "      <td>13</td>\n",
       "      <td>...</td>\n",
       "      <td>1</td>\n",
       "      <td>1.60</td>\n",
       "      <td>4.04</td>\n",
       "      <td>6.72</td>\n",
       "      <td>1.67</td>\n",
       "      <td>4.05</td>\n",
       "      <td>7.22</td>\n",
       "      <td>1.59</td>\n",
       "      <td>3.67</td>\n",
       "      <td>5.64</td>\n",
       "    </tr>\n",
       "    <tr>\n",
       "      <th>3</th>\n",
       "      <td>Brazil</td>\n",
       "      <td>Serie A</td>\n",
       "      <td>4</td>\n",
       "      <td>2012</td>\n",
       "      <td>20-05-12</td>\n",
       "      <td>20:00</td>\n",
       "      <td>Botafogo RJ</td>\n",
       "      <td>7</td>\n",
       "      <td>Sao Paulo</td>\n",
       "      <td>7</td>\n",
       "      <td>...</td>\n",
       "      <td>1</td>\n",
       "      <td>2.49</td>\n",
       "      <td>3.35</td>\n",
       "      <td>3.15</td>\n",
       "      <td>2.49</td>\n",
       "      <td>3.39</td>\n",
       "      <td>3.15</td>\n",
       "      <td>2.35</td>\n",
       "      <td>3.26</td>\n",
       "      <td>2.84</td>\n",
       "    </tr>\n",
       "    <tr>\n",
       "      <th>4</th>\n",
       "      <td>Brazil</td>\n",
       "      <td>Serie A</td>\n",
       "      <td>5</td>\n",
       "      <td>2012</td>\n",
       "      <td>20-05-12</td>\n",
       "      <td>20:00</td>\n",
       "      <td>Corinthians</td>\n",
       "      <td>9</td>\n",
       "      <td>Fluminense</td>\n",
       "      <td>9</td>\n",
       "      <td>...</td>\n",
       "      <td>2</td>\n",
       "      <td>1.96</td>\n",
       "      <td>3.53</td>\n",
       "      <td>4.41</td>\n",
       "      <td>1.96</td>\n",
       "      <td>3.53</td>\n",
       "      <td>4.41</td>\n",
       "      <td>1.89</td>\n",
       "      <td>3.33</td>\n",
       "      <td>3.89</td>\n",
       "    </tr>\n",
       "  </tbody>\n",
       "</table>\n",
       "<p>5 rows × 22 columns</p>\n",
       "</div>"
      ],
      "text/plain": [
       "  Country   League  game_id  Season      Date   Time          Home  home_id  \\\n",
       "0  Brazil  Serie A        1    2012  19-05-12  22:30     Palmeiras       21   \n",
       "1  Brazil  Serie A        2    2012  19-05-12  22:30  Sport Recife       27   \n",
       "2  Brazil  Serie A        3    2012  20-05-12   1:00   Figueirense       13   \n",
       "3  Brazil  Serie A        4    2012  20-05-12  20:00   Botafogo RJ        7   \n",
       "4  Brazil  Serie A        5    2012  20-05-12  20:00   Corinthians        9   \n",
       "\n",
       "          Away  Away_id  ...  Res    PH    PD    PA  MaxH  MaxD  MaxA  AvgH  \\\n",
       "0   Portuguesa       21  ...    0  1.75  3.86  5.25  1.76  3.87  5.31  1.69   \n",
       "1  Flamengo RJ       27  ...    0  2.83  3.39  2.68  2.83  3.42  2.70  2.59   \n",
       "2      Nautico       13  ...    1  1.60  4.04  6.72  1.67  4.05  7.22  1.59   \n",
       "3    Sao Paulo        7  ...    1  2.49  3.35  3.15  2.49  3.39  3.15  2.35   \n",
       "4   Fluminense        9  ...    2  1.96  3.53  4.41  1.96  3.53  4.41  1.89   \n",
       "\n",
       "   AvgD  AvgA  \n",
       "0  3.50  4.90  \n",
       "1  3.23  2.58  \n",
       "2  3.67  5.64  \n",
       "3  3.26  2.84  \n",
       "4  3.33  3.89  \n",
       "\n",
       "[5 rows x 22 columns]"
      ]
     },
     "execution_count": 3,
     "metadata": {},
     "output_type": "execute_result"
    }
   ],
   "source": [
    "df.head()"
   ]
  },
  {
   "cell_type": "code",
   "execution_count": 4,
   "id": "dc5109c0",
   "metadata": {},
   "outputs": [],
   "source": [
    "## 0 -> Empate\n",
    "## 1 -> Vitória em casa\n",
    "## 2 -> Vitoria mandante"
   ]
  },
  {
   "cell_type": "code",
   "execution_count": 5,
   "id": "2011a9dc",
   "metadata": {},
   "outputs": [],
   "source": [
    "a = {0:'Empate', 1:'Vitoria Mandante', 2:'Vitoria Visitante'}\n",
    "df_analise = df['Res'].map(a)"
   ]
  },
  {
   "cell_type": "code",
   "execution_count": 6,
   "id": "ddfe0e6a",
   "metadata": {},
   "outputs": [
    {
     "name": "stderr",
     "output_type": "stream",
     "text": [
      "C:\\Users\\Usuario\\anaconda3\\lib\\site-packages\\seaborn\\_decorators.py:36: FutureWarning: Pass the following variable as a keyword arg: x. From version 0.12, the only valid positional argument will be `data`, and passing other arguments without an explicit keyword will result in an error or misinterpretation.\n",
      "  warnings.warn(\n"
     ]
    },
    {
     "data": {
      "text/plain": [
       "Text(0.5, 0, '')"
      ]
     },
     "execution_count": 6,
     "metadata": {},
     "output_type": "execute_result"
    },
    {
     "data": {
      "image/png": "[encoded data removed]",
      "text/plain": [
       "<Figure size 1008x576 with 1 Axes>"
      ]
     },
     "metadata": {
      "needs_background": "light"
     },
     "output_type": "display_data"
    }
   ],
   "source": [
    "plt.figure(figsize = (14,8))\n",
    "sns.set(style = 'darkgrid')\n",
    "sns.countplot(df_analise)\n",
    "plt.xlabel('')"
   ]
  },
  {
   "cell_type": "code",
   "execution_count": 7,
   "id": "d9cbf0f2",
   "metadata": {},
   "outputs": [],
   "source": [
    "em = len(df[df['Res'] == 0])\n",
    "vm = len(df[df['Res'] == 1])\n",
    "vv = len(df[df['Res'] == 2])\n",
    "\n",
    "p_em = round(em/len(df)*100,2)\n",
    "p_vm = round(vm/len(df)*100,2)\n",
    "p_vv = round(vv/len(df)*100,2)\n"
   ]
  },
  {
   "cell_type": "code",
   "execution_count": 8,
   "id": "5cef977e",
   "metadata": {},
   "outputs": [
    {
     "name": "stdout",
     "output_type": "stream",
     "text": [
      "Empate = 593\n",
      "Vitoria Mandante = 1133\n",
      "Vitoria Visitante = 553\n"
     ]
    }
   ],
   "source": [
    "print(f'Empate = {em}\\nVitoria Mandante = {vm}\\nVitoria Visitante = {vv}')"
   ]
  },
  {
   "cell_type": "code",
   "execution_count": 9,
   "id": "8247f928",
   "metadata": {},
   "outputs": [
    {
     "name": "stdout",
     "output_type": "stream",
     "text": [
      "% Empate = 26.02% \n",
      "%Vitoria Mandante = 49.71% \n",
      "%Vitoria Visitante = 24.27% \n"
     ]
    }
   ],
   "source": [
    "print(f'% Empate = {p_em}% \\n%Vitoria Mandante = {p_vm}% \\n%Vitoria Visitante = {p_vv}% ')"
   ]
  },
  {
   "cell_type": "code",
   "execution_count": 10,
   "id": "168c082c",
   "metadata": {},
   "outputs": [
    {
     "data": {
      "text/html": [
       "<div>\n",
       "<style scoped>\n",
       "    .dataframe tbody tr th:only-of-type {\n",
       "        vertical-align: middle;\n",
       "    }\n",
       "\n",
       "    .dataframe tbody tr th {\n",
       "        vertical-align: top;\n",
       "    }\n",
       "\n",
       "    .dataframe thead th {\n",
       "        text-align: right;\n",
       "    }\n",
       "</style>\n",
       "<table border=\"1\" class=\"dataframe\">\n",
       "  <thead>\n",
       "    <tr style=\"text-align: right;\">\n",
       "      <th></th>\n",
       "      <th>Country</th>\n",
       "      <th>League</th>\n",
       "      <th>game_id</th>\n",
       "      <th>Season</th>\n",
       "      <th>Date</th>\n",
       "      <th>Time</th>\n",
       "      <th>Home</th>\n",
       "      <th>home_id</th>\n",
       "      <th>Away</th>\n",
       "      <th>Away_id</th>\n",
       "      <th>...</th>\n",
       "      <th>Res</th>\n",
       "      <th>PH</th>\n",
       "      <th>PD</th>\n",
       "      <th>PA</th>\n",
       "      <th>MaxH</th>\n",
       "      <th>MaxD</th>\n",
       "      <th>MaxA</th>\n",
       "      <th>AvgH</th>\n",
       "      <th>AvgD</th>\n",
       "      <th>AvgA</th>\n",
       "    </tr>\n",
       "  </thead>\n",
       "  <tbody>\n",
       "    <tr>\n",
       "      <th>0</th>\n",
       "      <td>Brazil</td>\n",
       "      <td>Serie A</td>\n",
       "      <td>1</td>\n",
       "      <td>2012</td>\n",
       "      <td>19-05-12</td>\n",
       "      <td>22:30</td>\n",
       "      <td>Palmeiras</td>\n",
       "      <td>21</td>\n",
       "      <td>Portuguesa</td>\n",
       "      <td>21</td>\n",
       "      <td>...</td>\n",
       "      <td>0</td>\n",
       "      <td>1.75</td>\n",
       "      <td>3.86</td>\n",
       "      <td>5.25</td>\n",
       "      <td>1.76</td>\n",
       "      <td>3.87</td>\n",
       "      <td>5.31</td>\n",
       "      <td>1.69</td>\n",
       "      <td>3.50</td>\n",
       "      <td>4.90</td>\n",
       "    </tr>\n",
       "    <tr>\n",
       "      <th>1</th>\n",
       "      <td>Brazil</td>\n",
       "      <td>Serie A</td>\n",
       "      <td>2</td>\n",
       "      <td>2012</td>\n",
       "      <td>19-05-12</td>\n",
       "      <td>22:30</td>\n",
       "      <td>Sport Recife</td>\n",
       "      <td>27</td>\n",
       "      <td>Flamengo RJ</td>\n",
       "      <td>27</td>\n",
       "      <td>...</td>\n",
       "      <td>0</td>\n",
       "      <td>2.83</td>\n",
       "      <td>3.39</td>\n",
       "      <td>2.68</td>\n",
       "      <td>2.83</td>\n",
       "      <td>3.42</td>\n",
       "      <td>2.70</td>\n",
       "      <td>2.59</td>\n",
       "      <td>3.23</td>\n",
       "      <td>2.58</td>\n",
       "    </tr>\n",
       "  </tbody>\n",
       "</table>\n",
       "<p>2 rows × 22 columns</p>\n",
       "</div>"
      ],
      "text/plain": [
       "  Country   League  game_id  Season      Date   Time          Home  home_id  \\\n",
       "0  Brazil  Serie A        1    2012  19-05-12  22:30     Palmeiras       21   \n",
       "1  Brazil  Serie A        2    2012  19-05-12  22:30  Sport Recife       27   \n",
       "\n",
       "          Away  Away_id  ...  Res    PH    PD    PA  MaxH  MaxD  MaxA  AvgH  \\\n",
       "0   Portuguesa       21  ...    0  1.75  3.86  5.25  1.76  3.87  5.31  1.69   \n",
       "1  Flamengo RJ       27  ...    0  2.83  3.39  2.68  2.83  3.42  2.70  2.59   \n",
       "\n",
       "   AvgD  AvgA  \n",
       "0  3.50  4.90  \n",
       "1  3.23  2.58  \n",
       "\n",
       "[2 rows x 22 columns]"
      ]
     },
     "execution_count": 10,
     "metadata": {},
     "output_type": "execute_result"
    }
   ],
   "source": [
    "df.head(2)"
   ]
  },
  {
   "cell_type": "code",
   "execution_count": 11,
   "id": "853d02ec",
   "metadata": {},
   "outputs": [],
   "source": [
    "features = df.drop(columns = 'Res')\n",
    "labels = df['Res']"
   ]
  },
  {
   "cell_type": "code",
   "execution_count": 12,
   "id": "cab5cb2d",
   "metadata": {},
   "outputs": [],
   "source": [
    "features = features.drop(['Country','League','Season','Date','Time','Home','Away'], axis = 1)"
   ]
  },
  {
   "cell_type": "code",
   "execution_count": 13,
   "id": "1298cc09",
   "metadata": {},
   "outputs": [
    {
     "data": {
      "text/html": [
       "<div>\n",
       "<style scoped>\n",
       "    .dataframe tbody tr th:only-of-type {\n",
       "        vertical-align: middle;\n",
       "    }\n",
       "\n",
       "    .dataframe tbody tr th {\n",
       "        vertical-align: top;\n",
       "    }\n",
       "\n",
       "    .dataframe thead th {\n",
       "        text-align: right;\n",
       "    }\n",
       "</style>\n",
       "<table border=\"1\" class=\"dataframe\">\n",
       "  <thead>\n",
       "    <tr style=\"text-align: right;\">\n",
       "      <th></th>\n",
       "      <th>game_id</th>\n",
       "      <th>home_id</th>\n",
       "      <th>Away_id</th>\n",
       "      <th>HG</th>\n",
       "      <th>AG</th>\n",
       "      <th>PH</th>\n",
       "      <th>PD</th>\n",
       "      <th>PA</th>\n",
       "      <th>MaxH</th>\n",
       "      <th>MaxD</th>\n",
       "      <th>MaxA</th>\n",
       "      <th>AvgH</th>\n",
       "      <th>AvgD</th>\n",
       "      <th>AvgA</th>\n",
       "    </tr>\n",
       "  </thead>\n",
       "  <tbody>\n",
       "    <tr>\n",
       "      <th>0</th>\n",
       "      <td>1</td>\n",
       "      <td>21</td>\n",
       "      <td>21</td>\n",
       "      <td>1</td>\n",
       "      <td>1</td>\n",
       "      <td>1.75</td>\n",
       "      <td>3.86</td>\n",
       "      <td>5.25</td>\n",
       "      <td>1.76</td>\n",
       "      <td>3.87</td>\n",
       "      <td>5.31</td>\n",
       "      <td>1.69</td>\n",
       "      <td>3.50</td>\n",
       "      <td>4.90</td>\n",
       "    </tr>\n",
       "    <tr>\n",
       "      <th>1</th>\n",
       "      <td>2</td>\n",
       "      <td>27</td>\n",
       "      <td>27</td>\n",
       "      <td>1</td>\n",
       "      <td>1</td>\n",
       "      <td>2.83</td>\n",
       "      <td>3.39</td>\n",
       "      <td>2.68</td>\n",
       "      <td>2.83</td>\n",
       "      <td>3.42</td>\n",
       "      <td>2.70</td>\n",
       "      <td>2.59</td>\n",
       "      <td>3.23</td>\n",
       "      <td>2.58</td>\n",
       "    </tr>\n",
       "    <tr>\n",
       "      <th>2</th>\n",
       "      <td>3</td>\n",
       "      <td>13</td>\n",
       "      <td>13</td>\n",
       "      <td>2</td>\n",
       "      <td>1</td>\n",
       "      <td>1.60</td>\n",
       "      <td>4.04</td>\n",
       "      <td>6.72</td>\n",
       "      <td>1.67</td>\n",
       "      <td>4.05</td>\n",
       "      <td>7.22</td>\n",
       "      <td>1.59</td>\n",
       "      <td>3.67</td>\n",
       "      <td>5.64</td>\n",
       "    </tr>\n",
       "    <tr>\n",
       "      <th>3</th>\n",
       "      <td>4</td>\n",
       "      <td>7</td>\n",
       "      <td>7</td>\n",
       "      <td>4</td>\n",
       "      <td>2</td>\n",
       "      <td>2.49</td>\n",
       "      <td>3.35</td>\n",
       "      <td>3.15</td>\n",
       "      <td>2.49</td>\n",
       "      <td>3.39</td>\n",
       "      <td>3.15</td>\n",
       "      <td>2.35</td>\n",
       "      <td>3.26</td>\n",
       "      <td>2.84</td>\n",
       "    </tr>\n",
       "    <tr>\n",
       "      <th>4</th>\n",
       "      <td>5</td>\n",
       "      <td>9</td>\n",
       "      <td>9</td>\n",
       "      <td>0</td>\n",
       "      <td>1</td>\n",
       "      <td>1.96</td>\n",
       "      <td>3.53</td>\n",
       "      <td>4.41</td>\n",
       "      <td>1.96</td>\n",
       "      <td>3.53</td>\n",
       "      <td>4.41</td>\n",
       "      <td>1.89</td>\n",
       "      <td>3.33</td>\n",
       "      <td>3.89</td>\n",
       "    </tr>\n",
       "    <tr>\n",
       "      <th>...</th>\n",
       "      <td>...</td>\n",
       "      <td>...</td>\n",
       "      <td>...</td>\n",
       "      <td>...</td>\n",
       "      <td>...</td>\n",
       "      <td>...</td>\n",
       "      <td>...</td>\n",
       "      <td>...</td>\n",
       "      <td>...</td>\n",
       "      <td>...</td>\n",
       "      <td>...</td>\n",
       "      <td>...</td>\n",
       "      <td>...</td>\n",
       "      <td>...</td>\n",
       "    </tr>\n",
       "    <tr>\n",
       "      <th>2274</th>\n",
       "      <td>2275</td>\n",
       "      <td>25</td>\n",
       "      <td>25</td>\n",
       "      <td>1</td>\n",
       "      <td>1</td>\n",
       "      <td>2.05</td>\n",
       "      <td>3.79</td>\n",
       "      <td>3.67</td>\n",
       "      <td>2.08</td>\n",
       "      <td>3.79</td>\n",
       "      <td>3.80</td>\n",
       "      <td>1.98</td>\n",
       "      <td>3.58</td>\n",
       "      <td>3.54</td>\n",
       "    </tr>\n",
       "    <tr>\n",
       "      <th>2275</th>\n",
       "      <td>2276</td>\n",
       "      <td>26</td>\n",
       "      <td>26</td>\n",
       "      <td>1</td>\n",
       "      <td>1</td>\n",
       "      <td>1.71</td>\n",
       "      <td>4.07</td>\n",
       "      <td>5.12</td>\n",
       "      <td>1.73</td>\n",
       "      <td>4.10</td>\n",
       "      <td>5.22</td>\n",
       "      <td>1.67</td>\n",
       "      <td>3.80</td>\n",
       "      <td>4.89</td>\n",
       "    </tr>\n",
       "    <tr>\n",
       "      <th>2276</th>\n",
       "      <td>2277</td>\n",
       "      <td>27</td>\n",
       "      <td>27</td>\n",
       "      <td>1</td>\n",
       "      <td>0</td>\n",
       "      <td>1.38</td>\n",
       "      <td>5.36</td>\n",
       "      <td>8.71</td>\n",
       "      <td>1.42</td>\n",
       "      <td>5.36</td>\n",
       "      <td>8.71</td>\n",
       "      <td>1.37</td>\n",
       "      <td>4.78</td>\n",
       "      <td>7.73</td>\n",
       "    </tr>\n",
       "    <tr>\n",
       "      <th>2277</th>\n",
       "      <td>2278</td>\n",
       "      <td>28</td>\n",
       "      <td>28</td>\n",
       "      <td>2</td>\n",
       "      <td>1</td>\n",
       "      <td>1.36</td>\n",
       "      <td>5.25</td>\n",
       "      <td>10.20</td>\n",
       "      <td>1.40</td>\n",
       "      <td>5.31</td>\n",
       "      <td>10.50</td>\n",
       "      <td>1.33</td>\n",
       "      <td>4.81</td>\n",
       "      <td>9.27</td>\n",
       "    </tr>\n",
       "    <tr>\n",
       "      <th>2278</th>\n",
       "      <td>2279</td>\n",
       "      <td>29</td>\n",
       "      <td>29</td>\n",
       "      <td>1</td>\n",
       "      <td>2</td>\n",
       "      <td>2.27</td>\n",
       "      <td>3.59</td>\n",
       "      <td>3.27</td>\n",
       "      <td>2.29</td>\n",
       "      <td>3.59</td>\n",
       "      <td>3.70</td>\n",
       "      <td>2.16</td>\n",
       "      <td>3.42</td>\n",
       "      <td>3.24</td>\n",
       "    </tr>\n",
       "  </tbody>\n",
       "</table>\n",
       "<p>2279 rows × 14 columns</p>\n",
       "</div>"
      ],
      "text/plain": [
       "      game_id  home_id  Away_id  HG  AG    PH    PD     PA  MaxH  MaxD   MaxA  \\\n",
       "0           1       21       21   1   1  1.75  3.86   5.25  1.76  3.87   5.31   \n",
       "1           2       27       27   1   1  2.83  3.39   2.68  2.83  3.42   2.70   \n",
       "2           3       13       13   2   1  1.60  4.04   6.72  1.67  4.05   7.22   \n",
       "3           4        7        7   4   2  2.49  3.35   3.15  2.49  3.39   3.15   \n",
       "4           5        9        9   0   1  1.96  3.53   4.41  1.96  3.53   4.41   \n",
       "...       ...      ...      ...  ..  ..   ...   ...    ...   ...   ...    ...   \n",
       "2274     2275       25       25   1   1  2.05  3.79   3.67  2.08  3.79   3.80   \n",
       "2275     2276       26       26   1   1  1.71  4.07   5.12  1.73  4.10   5.22   \n",
       "2276     2277       27       27   1   0  1.38  5.36   8.71  1.42  5.36   8.71   \n",
       "2277     2278       28       28   2   1  1.36  5.25  10.20  1.40  5.31  10.50   \n",
       "2278     2279       29       29   1   2  2.27  3.59   3.27  2.29  3.59   3.70   \n",
       "\n",
       "      AvgH  AvgD  AvgA  \n",
       "0     1.69  3.50  4.90  \n",
       "1     2.59  3.23  2.58  \n",
       "2     1.59  3.67  5.64  \n",
       "3     2.35  3.26  2.84  \n",
       "4     1.89  3.33  3.89  \n",
       "...    ...   ...   ...  \n",
       "2274  1.98  3.58  3.54  \n",
       "2275  1.67  3.80  4.89  \n",
       "2276  1.37  4.78  7.73  \n",
       "2277  1.33  4.81  9.27  \n",
       "2278  2.16  3.42  3.24  \n",
       "\n",
       "[2279 rows x 14 columns]"
      ]
     },
     "execution_count": 13,
     "metadata": {},
     "output_type": "execute_result"
    }
   ],
   "source": [
    "features"
   ]
  },
  {
   "cell_type": "code",
   "execution_count": 14,
   "id": "e4858d9a",
   "metadata": {},
   "outputs": [],
   "source": [
    "from sklearn.feature_selection import SelectKBest\n"
   ]
  },
  {
   "cell_type": "code",
   "execution_count": 15,
   "id": "c50f3deb",
   "metadata": {},
   "outputs": [
    {
     "data": {
      "text/html": [
       "<div>\n",
       "<style scoped>\n",
       "    .dataframe tbody tr th:only-of-type {\n",
       "        vertical-align: middle;\n",
       "    }\n",
       "\n",
       "    .dataframe tbody tr th {\n",
       "        vertical-align: top;\n",
       "    }\n",
       "\n",
       "    .dataframe thead th {\n",
       "        text-align: right;\n",
       "    }\n",
       "</style>\n",
       "<table border=\"1\" class=\"dataframe\">\n",
       "  <thead>\n",
       "    <tr style=\"text-align: right;\">\n",
       "      <th></th>\n",
       "      <th>game_id</th>\n",
       "      <th>home_id</th>\n",
       "      <th>Away_id</th>\n",
       "      <th>HG</th>\n",
       "      <th>AG</th>\n",
       "      <th>PH</th>\n",
       "      <th>PD</th>\n",
       "      <th>PA</th>\n",
       "      <th>MaxH</th>\n",
       "      <th>MaxD</th>\n",
       "      <th>MaxA</th>\n",
       "      <th>AvgH</th>\n",
       "      <th>AvgD</th>\n",
       "      <th>AvgA</th>\n",
       "    </tr>\n",
       "  </thead>\n",
       "  <tbody>\n",
       "    <tr>\n",
       "      <th>0</th>\n",
       "      <td>1</td>\n",
       "      <td>21</td>\n",
       "      <td>21</td>\n",
       "      <td>1</td>\n",
       "      <td>1</td>\n",
       "      <td>1.75</td>\n",
       "      <td>3.86</td>\n",
       "      <td>5.25</td>\n",
       "      <td>1.76</td>\n",
       "      <td>3.87</td>\n",
       "      <td>5.31</td>\n",
       "      <td>1.69</td>\n",
       "      <td>3.5</td>\n",
       "      <td>4.9</td>\n",
       "    </tr>\n",
       "  </tbody>\n",
       "</table>\n",
       "</div>"
      ],
      "text/plain": [
       "   game_id  home_id  Away_id  HG  AG    PH    PD    PA  MaxH  MaxD  MaxA  \\\n",
       "0        1       21       21   1   1  1.75  3.86  5.25  1.76  3.87  5.31   \n",
       "\n",
       "   AvgH  AvgD  AvgA  \n",
       "0  1.69   3.5   4.9  "
      ]
     },
     "execution_count": 15,
     "metadata": {},
     "output_type": "execute_result"
    }
   ],
   "source": [
    "features.head(1)"
   ]
  },
  {
   "cell_type": "code",
   "execution_count": 16,
   "id": "38bd56d9",
   "metadata": {},
   "outputs": [
    {
     "name": "stdout",
     "output_type": "stream",
     "text": [
      "\n",
      "Melhores features:\n",
      "{'PA': 740.4065621193932, 'MaxH': 731.7074700471329, 'MaxD': 81.51748572743963, 'AvgD': 80.67054047107476, 'AvgH': 63.290872018071454, 'MaxA': 40.62018755299711, 'AvgA': 40.54491193487282, 'AG': 0.6533077251586757, 'PD': 0.027363118243961364, 'PH': 0.027363118243961364}\n"
     ]
    }
   ],
   "source": [
    "features_list = ('HG','AG','PH','PD','PA','MaxH','MaxD','MaxA','AvgH','AvgD','AvgA')\n",
    "\n",
    "k_best_features = SelectKBest(k = 'all')\n",
    "k_best_features.fit_transform(features,labels)\n",
    "k_best_features_scores = k_best_features.scores_\n",
    "raw_pairs = zip(features_list[1:], k_best_features_scores)\n",
    "ordered_pairs = list(reversed(sorted(raw_pairs, key=lambda x: x[1])))\n",
    "\n",
    "k_best_features_final = dict(ordered_pairs[:15])\n",
    "best_features = k_best_features_final.keys()\n",
    "print ('')\n",
    "print (\"Melhores features:\")\n",
    "print (k_best_features_final)"
   ]
  },
  {
   "cell_type": "code",
   "execution_count": 17,
   "id": "bb4cc70d",
   "metadata": {},
   "outputs": [],
   "source": [
    "features = features.drop(['game_id','home_id','Away_id','AG','PD','PH'], axis = 1)"
   ]
  },
  {
   "cell_type": "code",
   "execution_count": 18,
   "id": "de356862",
   "metadata": {},
   "outputs": [
    {
     "data": {
      "text/html": [
       "<div>\n",
       "<style scoped>\n",
       "    .dataframe tbody tr th:only-of-type {\n",
       "        vertical-align: middle;\n",
       "    }\n",
       "\n",
       "    .dataframe tbody tr th {\n",
       "        vertical-align: top;\n",
       "    }\n",
       "\n",
       "    .dataframe thead th {\n",
       "        text-align: right;\n",
       "    }\n",
       "</style>\n",
       "<table border=\"1\" class=\"dataframe\">\n",
       "  <thead>\n",
       "    <tr style=\"text-align: right;\">\n",
       "      <th></th>\n",
       "      <th>HG</th>\n",
       "      <th>PA</th>\n",
       "      <th>MaxH</th>\n",
       "      <th>MaxD</th>\n",
       "      <th>MaxA</th>\n",
       "      <th>AvgH</th>\n",
       "      <th>AvgD</th>\n",
       "      <th>AvgA</th>\n",
       "    </tr>\n",
       "  </thead>\n",
       "  <tbody>\n",
       "    <tr>\n",
       "      <th>0</th>\n",
       "      <td>1</td>\n",
       "      <td>5.25</td>\n",
       "      <td>1.76</td>\n",
       "      <td>3.87</td>\n",
       "      <td>5.31</td>\n",
       "      <td>1.69</td>\n",
       "      <td>3.50</td>\n",
       "      <td>4.90</td>\n",
       "    </tr>\n",
       "    <tr>\n",
       "      <th>1</th>\n",
       "      <td>1</td>\n",
       "      <td>2.68</td>\n",
       "      <td>2.83</td>\n",
       "      <td>3.42</td>\n",
       "      <td>2.70</td>\n",
       "      <td>2.59</td>\n",
       "      <td>3.23</td>\n",
       "      <td>2.58</td>\n",
       "    </tr>\n",
       "    <tr>\n",
       "      <th>2</th>\n",
       "      <td>2</td>\n",
       "      <td>6.72</td>\n",
       "      <td>1.67</td>\n",
       "      <td>4.05</td>\n",
       "      <td>7.22</td>\n",
       "      <td>1.59</td>\n",
       "      <td>3.67</td>\n",
       "      <td>5.64</td>\n",
       "    </tr>\n",
       "    <tr>\n",
       "      <th>3</th>\n",
       "      <td>4</td>\n",
       "      <td>3.15</td>\n",
       "      <td>2.49</td>\n",
       "      <td>3.39</td>\n",
       "      <td>3.15</td>\n",
       "      <td>2.35</td>\n",
       "      <td>3.26</td>\n",
       "      <td>2.84</td>\n",
       "    </tr>\n",
       "    <tr>\n",
       "      <th>4</th>\n",
       "      <td>0</td>\n",
       "      <td>4.41</td>\n",
       "      <td>1.96</td>\n",
       "      <td>3.53</td>\n",
       "      <td>4.41</td>\n",
       "      <td>1.89</td>\n",
       "      <td>3.33</td>\n",
       "      <td>3.89</td>\n",
       "    </tr>\n",
       "  </tbody>\n",
       "</table>\n",
       "</div>"
      ],
      "text/plain": [
       "   HG    PA  MaxH  MaxD  MaxA  AvgH  AvgD  AvgA\n",
       "0   1  5.25  1.76  3.87  5.31  1.69  3.50  4.90\n",
       "1   1  2.68  2.83  3.42  2.70  2.59  3.23  2.58\n",
       "2   2  6.72  1.67  4.05  7.22  1.59  3.67  5.64\n",
       "3   4  3.15  2.49  3.39  3.15  2.35  3.26  2.84\n",
       "4   0  4.41  1.96  3.53  4.41  1.89  3.33  3.89"
      ]
     },
     "execution_count": 18,
     "metadata": {},
     "output_type": "execute_result"
    }
   ],
   "source": [
    "features.head()"
   ]
  },
  {
   "cell_type": "code",
   "execution_count": 19,
   "id": "17dd45c7",
   "metadata": {},
   "outputs": [],
   "source": [
    "from sklearn.preprocessing import StandardScaler, MinMaxScaler\n"
   ]
  },
  {
   "cell_type": "code",
   "execution_count": 20,
   "id": "f08f4cc5",
   "metadata": {},
   "outputs": [
    {
     "data": {
      "text/plain": [
       "array([[0.16666667, 0.21853547, 0.07060334, ..., 0.08239095, 0.15945946,\n",
       "        0.26920093],\n",
       "       [0.16666667, 0.0715103 , 0.20795892, ..., 0.22778675, 0.08648649,\n",
       "        0.08921645],\n",
       "       [0.33333333, 0.30263158, 0.05905006, ..., 0.06623586, 0.20540541,\n",
       "        0.32660978],\n",
       "       ...,\n",
       "       [0.16666667, 0.41647597, 0.02695764, ..., 0.03069467, 0.50540541,\n",
       "        0.48875097],\n",
       "       [0.33333333, 0.50171625, 0.02439024, ..., 0.02423263, 0.51351351,\n",
       "        0.60822343],\n",
       "       [0.16666667, 0.10526316, 0.13863928, ..., 0.15831987, 0.13783784,\n",
       "        0.14041893]])"
      ]
     },
     "execution_count": 20,
     "metadata": {},
     "output_type": "execute_result"
    }
   ],
   "source": [
    "scaler = MinMaxScaler().fit(features)\n",
    "features_scaler = scaler.transform(features)\n",
    "features_scaler"
   ]
  },
  {
   "cell_type": "code",
   "execution_count": 22,
   "id": "7796d697",
   "metadata": {},
   "outputs": [
    {
     "name": "stdout",
     "output_type": "stream",
     "text": [
      "1932 1932\n",
      "223 223\n"
     ]
    }
   ],
   "source": [
    "X_train = features_scaler[:1932]\n",
    "X_test = features_scaler[1932:2155]\n",
    "y_train = labels[:1932]\n",
    "y_test = labels[1932:2155]\n",
    "\n",
    "print(len(X_train), len(y_train))\n",
    "print(len(X_test), len(y_test))\n",
    "\n",
    "          "
   ]
  },
  {
   "cell_type": "code",
   "execution_count": 23,
   "id": "87f274a3",
   "metadata": {},
   "outputs": [
    {
     "data": {
      "text/plain": [
       "0    0\n",
       "1    0\n",
       "2    1\n",
       "3    1\n",
       "4    2\n",
       "Name: Res, dtype: int64"
      ]
     },
     "execution_count": 23,
     "metadata": {},
     "output_type": "execute_result"
    }
   ],
   "source": [
    "labels.head()"
   ]
  },
  {
   "cell_type": "code",
   "execution_count": 24,
   "id": "3f1e3884",
   "metadata": {},
   "outputs": [
    {
     "name": "stdout",
     "output_type": "stream",
     "text": [
      "LogisticRegression\n",
      "Acurácia LogisticRegression:0.57847533632287\n",
      "F1 Score:0.57847533632287\n"
     ]
    }
   ],
   "source": [
    "print ('LogisticRegression')\n",
    "\n",
    "\n",
    "clf_LR = LogisticRegression(multi_class='multinomial',max_iter=2000)\n",
    "clf_LR.fit(X_train, y_train)\n",
    "pred= clf_LR.predict(X_test)\n",
    "\n",
    "lg_acc = accuracy_score(y_test, pred)\n",
    "f1=f1_score(y_test,pred,average = 'micro')\n",
    "print ('Acurácia LogisticRegression:{}'.format(lg_acc))\n",
    "print ('F1 Score:{}'.format(f1) )"
   ]
  },
  {
   "cell_type": "code",
   "execution_count": 25,
   "id": "90f27ef2",
   "metadata": {},
   "outputs": [
    {
     "name": "stdout",
     "output_type": "stream",
     "text": [
      "Acurácia LogisticRegression:0.57847533632287\n",
      "F1 Score:0.5282488231236308\n",
      "LogisticRegression(C=1, max_iter=1000)\n"
     ]
    }
   ],
   "source": [
    "param_grid = {'C': [0.001, 0.01, 0.1, 1, 10, 100, 1000] }\n",
    "\n",
    "search = GridSearchCV(LogisticRegression(max_iter=1000), param_grid)\n",
    "\n",
    "search.fit(X_train,y_train)\n",
    "clf = search.best_estimator_\n",
    "pred= clf.predict(X_test)\n",
    "lg_acc = accuracy_score(y_test, pred)\n",
    "\n",
    "\n",
    "f1=f1_score(y_test,pred,average = 'macro')\n",
    "\n",
    "print ('Acurácia LogisticRegression:{}'.format(lg_acc))\n",
    "print ('F1 Score:{}'.format(f1) )\n",
    "\n",
    "print (clf)"
   ]
  },
  {
   "cell_type": "code",
   "execution_count": 26,
   "id": "29f392c2",
   "metadata": {},
   "outputs": [
    {
     "name": "stdout",
     "output_type": "stream",
     "text": [
      "SVC\n",
      "Acurácia SVC:0.57847533632287\n",
      "F1 Score:0.57847533632287\n"
     ]
    }
   ],
   "source": [
    "print ('SVC')\n",
    "\n",
    "\n",
    "clf = SVC()\n",
    "clf.fit(X_train, y_train)\n",
    "pred= clf.predict(X_test)\n",
    "\n",
    "svc_acc = accuracy_score(y_test, pred)\n",
    "f1=f1_score(y_test,pred, average='micro')\n",
    "print ('Acurácia SVC:{}'.format(svc_acc))\n",
    "print ('F1 Score:{}'.format(f1) )"
   ]
  },
  {
   "cell_type": "code",
   "execution_count": 27,
   "id": "4b2544a7",
   "metadata": {},
   "outputs": [
    {
     "name": "stdout",
     "output_type": "stream",
     "text": [
      "F1 Score:0.5919282511210763\n",
      "Acurácia LogisticRegression:0.5919282511210763\n",
      "SVC(C=100)\n"
     ]
    }
   ],
   "source": [
    "param_grid = {'C': [0.001, 0.01, 0.1, 1, 10, 100, 1000] }\n",
    "\n",
    "search = GridSearchCV(SVC(), param_grid)\n",
    "\n",
    "search.fit(X_train,y_train)\n",
    "clf_SVC = search.best_estimator_\n",
    "pred= clf_SVC.predict(X_test)\n",
    "acc = accuracy_score(y_test, pred)\n",
    "\n",
    "\n",
    "f1=f1_score(y_test,pred,average = 'micro')\n",
    "\n",
    "print ('F1 Score:{}'.format(f1))\n",
    "\n",
    "print ('Acurácia LogisticRegression:{}'.format(acc))\n",
    "\n",
    "print(clf_SVC)"
   ]
  },
  {
   "cell_type": "code",
   "execution_count": 28,
   "id": "a8a9a015",
   "metadata": {},
   "outputs": [
    {
     "name": "stdout",
     "output_type": "stream",
     "text": [
      "Decision Tree\n",
      "Acurácia Tree:0.4618834080717489\n",
      "F1 Score:0.433748333984302\n"
     ]
    }
   ],
   "source": [
    "print ('Decision Tree')\n",
    "\n",
    "\n",
    "clf = DecisionTreeClassifier()\n",
    "clf.fit(X_train, y_train)\n",
    "pred= clf.predict(X_test)\n",
    "\n",
    "dt_acc = accuracy_score(y_test, pred)\n",
    "f1=f1_score(y_test,pred, average='macro')\n",
    "print ('Acurácia Tree:{}'.format(dt_acc))\n",
    "print ('F1 Score:{}'.format(f1) )\n",
    "\n",
    "\n",
    "n_estimators = [10, 50, 100, 200]\n",
    "max_depth = [3, 10, 20, 40]"
   ]
  },
  {
   "cell_type": "code",
   "execution_count": 29,
   "id": "1479b153",
   "metadata": {},
   "outputs": [
    {
     "name": "stdout",
     "output_type": "stream",
     "text": [
      "Decision Tree\n",
      "Acurácia Decision Tree:0.515695067264574\n",
      "F1 Score:0.515695067264574\n",
      "DecisionTreeClassifier(max_depth=80, max_features=3, min_samples_leaf=5,\n",
      "                       min_samples_split=12)\n"
     ]
    }
   ],
   "source": [
    "print ('Decision Tree')\n",
    "\n",
    "param_grid = {\n",
    "    'max_depth': [80, 90, 100, 110],\n",
    "    'max_features': [2, 3],\n",
    "    'min_samples_leaf': [3, 4, 5],\n",
    "    'min_samples_split': [8, 10, 12]\n",
    "    \n",
    "  \n",
    "}\n",
    "\n",
    "search = GridSearchCV(DecisionTreeClassifier(), param_grid)\n",
    "\n",
    "search.fit(X_train,y_train)\n",
    "clf = search.best_estimator_\n",
    "pred= clf.predict(X_test)\n",
    "dt_acc = accuracy_score(y_test, pred)\n",
    "\n",
    "\n",
    "f1=f1_score(y_test,pred,average = 'micro')\n",
    "\n",
    "print ('Acurácia Decision Tree:{}'.format(dt_acc))\n",
    "print ('F1 Score:{}'.format(f1) )\n",
    "\n",
    "print (clf)"
   ]
  },
  {
   "cell_type": "code",
   "execution_count": 30,
   "id": "e771439a",
   "metadata": {},
   "outputs": [
    {
     "name": "stdout",
     "output_type": "stream",
     "text": [
      "Naive baeys\n",
      "Acurácia Naive baeys:0.5201793721973094\n",
      "F1 Score:0.5201793721973094\n"
     ]
    }
   ],
   "source": [
    "print ('Naive baeys')\n",
    "\n",
    "\n",
    "clf = GaussianNB()\n",
    "clf.fit(X_train, y_train)\n",
    "pred= clf.predict(X_test)\n",
    "\n",
    "nb_acc = accuracy_score(y_test, pred)\n",
    "f1=f1_score(y_test,pred, average='micro')\n",
    "print ('Acurácia Naive baeys:{}'.format(nb_acc))\n",
    "print ('F1 Score:{}'.format(f1) )"
   ]
  },
  {
   "cell_type": "code",
   "execution_count": 32,
   "id": "ca7bdcaf",
   "metadata": {},
   "outputs": [
    {
     "name": "stdout",
     "output_type": "stream",
     "text": [
      "      real  previsao  game_id time mandante time visitante\n",
      "2155     1         1     2156        Gremio     Fluminense\n",
      "2156     1         1     2157     Sao Paulo   Sport Recife\n",
      "2157     2         2     2158   Atletico-PR    Atletico-MG\n",
      "2158     1         1     2159   Ponte Preta    Flamengo RJ\n",
      "2159     1         1     2160      Cruzeiro    Ponte Preta\n",
      "...    ...       ...      ...           ...            ...\n",
      "2274     0         0     2275        Santos           Avai\n",
      "2275     0         0     2276     Sao Paulo          Bahia\n",
      "2276     1         1     2277  Sport Recife    Corinthians\n",
      "2277     1         1     2278         Vasco    Ponte Preta\n",
      "2278     2         1     2279       Vitoria    Flamengo RJ\n",
      "\n",
      "[124 rows x 5 columns]\n"
     ]
    }
   ],
   "source": [
    "previsao=features_scaler[2155:]\n",
    "\n",
    "game_id_full=df['game_id']\n",
    "game_id=game_id_full[2155:]\n",
    "\n",
    "res_full=df['Res']\n",
    "res=res_full[2155:]\n",
    "\n",
    "time_mandante_full = df['Home']\n",
    "time_mandante = time_mandante_full[2155:]\n",
    "\n",
    "time_visitante_full = df['Away']\n",
    "time_visitante = time_visitante_full[2155:]\n",
    "\n",
    "\n",
    "pred=clf_SVC.predict(previsao)\n",
    "\n",
    "df=pd.DataFrame({'real': res, 'previsao':pred, 'game_id':game_id, 'time mandante':time_mandante, 'time visitante': time_visitante})\n",
    "\n",
    "print(df)"
   ]
  },
  {
   "cell_type": "code",
   "execution_count": 33,
   "id": "bc2c810c",
   "metadata": {},
   "outputs": [
    {
     "data": {
      "text/plain": [
       "<AxesSubplot:xlabel='previsao', ylabel='real'>"
      ]
     },
     "execution_count": 33,
     "metadata": {},
     "output_type": "execute_result"
    },
    {
     "data": {
      "image/png": "[encoded data removed]",
      "text/plain": [
       "<Figure size 432x288 with 2 Axes>"
      ]
     },
     "metadata": {},
     "output_type": "display_data"
    }
   ],
   "source": [
    "df=pd.DataFrame(df,columns=['real','previsao' ])\n",
    "\n",
    "cf_matrix=pd.crosstab(df['real'], df['previsao'], rownames=['real'] , colnames=['previsao'])\n",
    "\n",
    "sns.heatmap(cf_matrix, annot=True, cmap='Blues')"
   ]
  },
  {
   "cell_type": "code",
   "execution_count": null,
   "id": "2f4387f7",
   "metadata": {},
   "outputs": [],
   "source": []
  },
  {
   "cell_type": "code",
   "execution_count": null,
   "id": "6a04e33b",
   "metadata": {},
   "outputs": [],
   "source": []
  },
  {
   "cell_type": "code",
   "execution_count": null,
   "id": "b35f738b",
   "metadata": {},
   "outputs": [],
   "source": []
  }
 ],
 "metadata": {
  "kernelspec": {
   "display_name": "Python 3",
   "language": "python",
   "name": "python3"
  },
  "language_info": {
   "codemirror_mode": {
    "name": "ipython",
    "version": 3
   },
   "file_extension": ".py",
   "mimetype": "text/x-python",
   "name": "python",
   "nbconvert_exporter": "python",
   "pygments_lexer": "ipython3",
   "version": "3.8.8"
  }
 },
 "nbformat": 4,
 "nbformat_minor": 5
}
